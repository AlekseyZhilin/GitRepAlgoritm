{
 "cells": [
  {
   "cell_type": "code",
   "execution_count": 1,
   "id": "d2c35631",
   "metadata": {},
   "outputs": [],
   "source": [
    "import numpy as np\n",
    "import matplotlib.pyplot as plt\n",
    "from matplotlib.colors import ListedColormap\n",
    "from sklearn import datasets\n",
    "from sklearn import model_selection"
   ]
  },
  {
   "cell_type": "code",
   "execution_count": 2,
   "id": "5f9d119d",
   "metadata": {},
   "outputs": [],
   "source": [
    "# сгенерируем данные\n",
    "classification_data, classification_labels = datasets.make_classification(n_features=2, n_informative=2,\n",
    "                                                                          n_classes=2, n_redundant=0,\n",
    "                                                                          n_clusters_per_class=1, random_state=5)"
   ]
  },
  {
   "cell_type": "code",
   "execution_count": 3,
   "id": "4a364383",
   "metadata": {},
   "outputs": [
    {
     "data": {
      "image/png": "[encoded data removed]",
      "text/plain": [
       "<Figure size 576x576 with 1 Axes>"
      ]
     },
     "metadata": {
      "needs_background": "light"
     },
     "output_type": "display_data"
    }
   ],
   "source": [
    "# визуализируем сгенерированные данные\n",
    "colors = ListedColormap(['red', 'blue'])\n",
    "light_colors = ListedColormap(['lightcoral', 'lightblue'])\n",
    "\n",
    "plt.figure(figsize=(8, 8))\n",
    "plt.scatter(list(map(lambda x: x[0], classification_data)), list(map(lambda x: x[1], classification_data)),\n",
    "            c=classification_labels, cmap=colors)\n",
    "plt.show()"
   ]
  },
  {
   "cell_type": "markdown",
   "id": "c2963912",
   "metadata": {},
   "source": [
    "### Классы и функции дерева решений"
   ]
  },
  {
   "cell_type": "code",
   "execution_count": 4,
   "id": "3888be5a",
   "metadata": {},
   "outputs": [],
   "source": [
    "# Реализуем класс узла\n",
    "class Node:\n",
    "\n",
    "    def __init__(self, index, t, true_branch, false_branch):\n",
    "        self.index = index  # индекс признака, по которому ведется сравнение с порогом в этом узле\n",
    "        self.t = t  # значение порога\n",
    "        self.true_branch = true_branch  # поддерево, удовлетворяющее условию в узле\n",
    "        self.false_branch = false_branch  # поддерево, не удовлетворяющее условию в узле"
   ]
  },
  {
   "cell_type": "code",
   "execution_count": 5,
   "id": "172814d9",
   "metadata": {},
   "outputs": [],
   "source": [
    "# Реализуем класс терминального узла (листа)\n",
    "class Leaf:\n",
    "\n",
    "    def __init__(self, data, labels):\n",
    "        self.data = data\n",
    "        self.labels = labels\n",
    "        self.prediction = self.predict()\n",
    "\n",
    "    def predict(self):\n",
    "        # подсчет количества объектов разных классов\n",
    "        classes = {}  # сформируем словарь \"класс: количество объектов\"\n",
    "        for label in self.labels:\n",
    "            if label not in classes:\n",
    "                classes[label] = 0\n",
    "            classes[label] += 1\n",
    "        #  найдем класс, количество объектов которого будет максимальным в этом листе и вернем его\n",
    "        prediction = max(classes, key=classes.get)\n",
    "\n",
    "        return prediction"
   ]
  },
  {
   "cell_type": "code",
   "execution_count": 6,
   "id": "2380d295",
   "metadata": {},
   "outputs": [],
   "source": [
    "# Расчет критерия Джини\n",
    "def gini(labels):\n",
    "    #  подсчет количества объектов разных классов\n",
    "    classes = {}\n",
    "    for label in labels:\n",
    "        if label not in classes:\n",
    "            classes[label] = 0\n",
    "        classes[label] += 1\n",
    "\n",
    "    #  расчет критерия\n",
    "    impurity = 1\n",
    "    for label in classes:\n",
    "        p = classes[label] / len(labels)\n",
    "        impurity -= p ** 2\n",
    "\n",
    "    return impurity"
   ]
  },
  {
   "cell_type": "code",
   "execution_count": 7,
   "id": "1e4e119e",
   "metadata": {},
   "outputs": [],
   "source": [
    "# Расчёт энтрапии Шеннона\n",
    "def shennon(labels):\n",
    "    #  подсчет количества объектов разных классов\n",
    "    classes = {}\n",
    "    for label in labels:\n",
    "        if label not in classes:\n",
    "            classes[label] = 0\n",
    "        classes[label] += 1\n",
    "\n",
    "    #  расчет критерия\n",
    "    impurity = 0\n",
    "    for label in classes:\n",
    "        p = classes[label] / len(labels)\n",
    "        if p == 0:\n",
    "            impurity += 0\n",
    "        else:\n",
    "            impurity += p * np.log2(p)\n",
    "\n",
    "    return -1 * impurity"
   ]
  },
  {
   "cell_type": "code",
   "execution_count": 8,
   "id": "4f221d7c",
   "metadata": {},
   "outputs": [],
   "source": [
    "# Расчет качества по Критерию Шеннона\n",
    "def quality_shennon(left_labels, right_labels, current_shennon):\n",
    "    # доля выбоки, ушедшая в левое поддерево\n",
    "    p = float(left_labels.shape[0]) / (left_labels.shape[0] + right_labels.shape[0])\n",
    "\n",
    "    return current_shennon - p * shennon(left_labels) - (1 - p) * shennon(right_labels)"
   ]
  },
  {
   "cell_type": "code",
   "execution_count": 9,
   "id": "9b703909",
   "metadata": {},
   "outputs": [],
   "source": [
    "# Расчет качества\n",
    "def quality(left_labels, right_labels, current_gini):\n",
    "    # доля выбоки, ушедшая в левое поддерево\n",
    "    p = float(left_labels.shape[0]) / (left_labels.shape[0] + right_labels.shape[0])\n",
    "\n",
    "    return current_gini - p * gini(left_labels) - (1 - p) * gini(right_labels)"
   ]
  },
  {
   "cell_type": "code",
   "execution_count": 10,
   "id": "0f8cb6c7",
   "metadata": {},
   "outputs": [],
   "source": [
    "# Разбиение датасета в узле\n",
    "def split(data, labels, index, t):\n",
    "    left = np.where(data[:, index] <= t)\n",
    "    right = np.where(data[:, index] > t)\n",
    "\n",
    "    true_data = data[left]\n",
    "    false_data = data[right]\n",
    "    true_labels = labels[left]\n",
    "    false_labels = labels[right]\n",
    "\n",
    "    return true_data, false_data, true_labels, false_labels"
   ]
  },
  {
   "cell_type": "code",
   "execution_count": 11,
   "id": "82331fd8",
   "metadata": {},
   "outputs": [],
   "source": [
    "# Нахождение наилучшего разбиения\n",
    "def find_best_split(data, labels, min_leaf=5):\n",
    "    #  минимальное количество объектов в узле min_leaf\n",
    "\n",
    "    current_gini = gini(labels)\n",
    "\n",
    "    best_quality = 0\n",
    "    best_t = None\n",
    "    best_index = None\n",
    "\n",
    "    n_features = data.shape[1]\n",
    "\n",
    "    for index in range(n_features):\n",
    "        # будем проверять только уникальные значения признака, исключая повторения\n",
    "        t_values = np.unique([row[index] for row in data])\n",
    "\n",
    "        for t in t_values:\n",
    "            true_data, false_data, true_labels, false_labels = split(data, labels, index, t)\n",
    "            #  пропускаем разбиения, в которых в узле остается менее 5 объектов\n",
    "            if len(true_data) < min_leaf or len(false_data) < min_leaf:\n",
    "                continue\n",
    "\n",
    "            current_quality = quality(true_labels, false_labels, current_gini)\n",
    "\n",
    "            #  выбираем порог, на котором получается максимальный прирост качества\n",
    "            if current_quality > best_quality:\n",
    "                best_quality, best_t, best_index = current_quality, t, index\n",
    "\n",
    "    return best_quality, best_t, best_index"
   ]
  },
  {
   "cell_type": "code",
   "execution_count": 12,
   "id": "13e01756",
   "metadata": {},
   "outputs": [],
   "source": [
    "# Нахождение наилучшего разбиения\n",
    "def find_best_split_shennon(data, labels, min_leaf=5):\n",
    "    #  минимальное количество объектов в узле min_leaf\n",
    "\n",
    "    current_shennon = shennon(labels)\n",
    "\n",
    "    best_quality = 0\n",
    "    best_t = None\n",
    "    best_index = None\n",
    "\n",
    "    n_features = data.shape[1]\n",
    "\n",
    "    for index in range(n_features):\n",
    "        # будем проверять только уникальные значения признака, исключая повторения\n",
    "        t_values = np.unique([row[index] for row in data])\n",
    "\n",
    "        for t in t_values:\n",
    "            true_data, false_data, true_labels, false_labels = split(data, labels, index, t)\n",
    "            #  пропускаем разбиения, в которых в узле остается менее 5 объектов\n",
    "            if len(true_data) < min_leaf or len(false_data) < min_leaf:\n",
    "                continue\n",
    "\n",
    "            current_quality = quality_shennon(true_labels, false_labels, current_shennon)\n",
    "\n",
    "            #  выбираем порог, на котором получается максимальный прирост качества\n",
    "            if current_quality > best_quality:\n",
    "                best_quality, best_t, best_index = current_quality, t, index\n",
    "\n",
    "    return best_quality, best_t, best_index"
   ]
  },
  {
   "cell_type": "code",
   "execution_count": 13,
   "id": "f2554e0e",
   "metadata": {},
   "outputs": [],
   "source": [
    "# Построение дерева с помощью рекурсивной функции\n",
    "def build_tree(data, labels, min_leaf, shennon=False):\n",
    "    \n",
    "    if shennon == True:\n",
    "        quality, t, index = find_best_split_shennon(data, labels, min_leaf)    \n",
    "    else:\n",
    "        quality, t, index = find_best_split(data, labels, min_leaf)\n",
    "\n",
    "    #  Базовый случай - прекращаем рекурсию, когда нет прироста в качества\n",
    "    if quality == 0:\n",
    "        return Leaf(data, labels)\n",
    "\n",
    "    true_data, false_data, true_labels, false_labels = split(data, labels, index, t)\n",
    "\n",
    "    # Рекурсивно строим два поддерева\n",
    "    true_branch = build_tree(true_data, true_labels, min_leaf)\n",
    "    false_branch = build_tree(false_data, false_labels, min_leaf)\n",
    "\n",
    "    # Возвращаем класс узла со всеми поддеревьями, то есть целого дерева\n",
    "    return Node(index, t, true_branch, false_branch)"
   ]
  },
  {
   "cell_type": "code",
   "execution_count": 14,
   "id": "286975bf",
   "metadata": {},
   "outputs": [],
   "source": [
    "def classify_object(obj, node):\n",
    "    #  Останавливаем рекурсию, если достигли листа\n",
    "    if isinstance(node, Leaf):\n",
    "        answer = node.prediction\n",
    "        return answer\n",
    "\n",
    "    if obj[node.index] <= node.t:\n",
    "        return classify_object(obj, node.true_branch)\n",
    "    else:\n",
    "        return classify_object(obj, node.false_branch)"
   ]
  },
  {
   "cell_type": "code",
   "execution_count": 15,
   "id": "7005b266",
   "metadata": {},
   "outputs": [],
   "source": [
    "def predict(data, tree):\n",
    "    classes = []\n",
    "    for obj in data:\n",
    "        prediction = classify_object(obj, tree)\n",
    "        classes.append(prediction)\n",
    "    return classes"
   ]
  },
  {
   "cell_type": "markdown",
   "id": "72023797",
   "metadata": {},
   "source": [
    "###  Построение дерева"
   ]
  },
  {
   "cell_type": "code",
   "execution_count": 16,
   "id": "7883dc0c",
   "metadata": {},
   "outputs": [],
   "source": [
    "# Разобьем выборку на обучающую и тестовую\n",
    "train_data, test_data, train_labels, test_labels = model_selection.train_test_split(classification_data,\n",
    "                                                                                    classification_labels,\n",
    "                                                                                    test_size=0.3,\n",
    "                                                                                    random_state=1)"
   ]
  },
  {
   "cell_type": "markdown",
   "id": "ed2a9295",
   "metadata": {},
   "source": [
    "## Подбор количества объектов в листе"
   ]
  },
  {
   "cell_type": "code",
   "execution_count": 17,
   "id": "07da1f78",
   "metadata": {},
   "outputs": [],
   "source": [
    "# Введем функцию подсчета точности как доли правильных ответов\n",
    "def accuracy_metric(actual, predicted):\n",
    "    correct = 0\n",
    "    for i in range(len(actual)):\n",
    "        if actual[i] == predicted[i]:\n",
    "            correct += 1\n",
    "    return correct / float(len(actual)) * 100.0"
   ]
  },
  {
   "cell_type": "code",
   "execution_count": 18,
   "id": "b8b96ff4",
   "metadata": {},
   "outputs": [],
   "source": [
    "# Визуализируем дерево на графике\n",
    "def get_meshgrid(data, step=.05, border=1.2):\n",
    "    x_min, x_max = data[:, 0].min() - border, data[:, 0].max() + border\n",
    "    y_min, y_max = data[:, 1].min() - border, data[:, 1].max() + border\n",
    "    return np.meshgrid(np.arange(x_min, x_max, step), np.arange(y_min, y_max, step))"
   ]
  },
  {
   "cell_type": "code",
   "execution_count": 19,
   "id": "f3906e6d",
   "metadata": {},
   "outputs": [],
   "source": [
    "# Сравнение деревьев с разными параметрами\n",
    "def comparison_tree(train_data, train_labels, min_leaf=5, shennon=False):\n",
    "    # Построим дерево по обучающей выборке\n",
    "    my_tree = build_tree(train_data, train_labels, min_leaf, shennon)\n",
    "    \n",
    "    # Получим ответы для обучающей выборки\n",
    "    train_answers = predict(train_data, my_tree)\n",
    "    # Получим ответы для тестовой выборки\n",
    "    answers = predict(test_data, my_tree)\n",
    "    # Точность на обучающей выборке\n",
    "    train_accuracy = accuracy_metric(train_labels, train_answers)\n",
    "    # Точность на тестовой выборке\n",
    "    test_accuracy = accuracy_metric(test_labels, answers)\n",
    "    \n",
    "    return my_tree, train_accuracy, test_accuracy\n",
    "    "
   ]
  },
  {
   "cell_type": "code",
   "execution_count": 20,
   "id": "f4bbda89",
   "metadata": {},
   "outputs": [
    {
     "name": "stdout",
     "output_type": "stream",
     "text": [
      "min_leaf=1     train_accuracy=100.0      test_accuracy=96.667\n",
      "min_leaf=5     train_accuracy=98.571     test_accuracy=100.0\n",
      "min_leaf=10    train_accuracy=92.857     test_accuracy=96.667\n"
     ]
    }
   ],
   "source": [
    "# Построим дерево по обучающей выборке\n",
    "train_accuracy_gr = []\n",
    "test_accuracy_gr = []\n",
    "\n",
    "for min_leaf in [1, 5, 10]:\n",
    "    res = comparison_tree(train_data, train_labels, min_leaf)\n",
    "    my_tree = res[0]\n",
    "    print(f'min_leaf={min_leaf:<5} train_accuracy={round(res[1],3):<10} test_accuracy={round(res[2],3)}')\n",
    "    train_accuracy_gr.append(res[1])\n",
    "    test_accuracy_gr.append(res[2])"
   ]
  },
  {
   "cell_type": "code",
   "execution_count": 21,
   "id": "14f0af40",
   "metadata": {},
   "outputs": [
    {
     "data": {
      "image/png": "[encoded data removed]",
      "text/plain": [
       "<Figure size 432x288 with 1 Axes>"
      ]
     },
     "metadata": {
      "needs_background": "light"
     },
     "output_type": "display_data"
    }
   ],
   "source": [
    "labels = ['1', '5', '10']\n",
    "x = np.arange(len(labels))\n",
    "width = 0.35\n",
    "\n",
    "fig, ax = plt.subplots()\n",
    "rects1 = ax.bar(x - width/2, train_accuracy_gr, width, label='train_accuracy')\n",
    "rects2 = ax.bar(x + width/2, test_accuracy_gr, width, label='test_accuracy')\n",
    "\n",
    "ax.set_ylabel('%')\n",
    "ax.set_title('min_leaf - accuracy')\n",
    "ax.set_xticks(x)\n",
    "ax.set_xticklabels(labels)\n",
    "ax.set(ylim=[90,100])\n",
    "\n",
    "ax.legend()\n",
    "#plt.legend(loc='lower right')\n",
    "\n",
    "#ax.bar_label(rects1, padding=3)\n",
    "#ax.bar_label(rects2, padding=3)\n",
    "\n",
    "fig.tight_layout()\n",
    "plt.show()"
   ]
  },
  {
   "cell_type": "markdown",
   "id": "491c73de",
   "metadata": {},
   "source": [
    "## Вывод: \n",
    "### Мы видим сто процентный результат в обучающей выборке в случае года минимальное количество объектов в узле = 1, но при этом низкий результат на тестовой выборке - модель перелбучилась. \n",
    "### В тоже время, если взять максимальное количество объектов из исследуемого количества, результат на тестовых данных, то же снижается. \n",
    "### Принято решение взять количество равное 5 "
   ]
  },
  {
   "cell_type": "markdown",
   "id": "fc163a41",
   "metadata": {},
   "source": [
    "## Сравнение Джинни и критерия Шеннона"
   ]
  },
  {
   "cell_type": "code",
   "execution_count": 22,
   "id": "3158e5d3",
   "metadata": {},
   "outputs": [
    {
     "name": "stdout",
     "output_type": "stream",
     "text": [
      "Джинни\n",
      "min_leaf=5     train_accuracy=98.571     test_accuracy=100.0\n"
     ]
    }
   ],
   "source": [
    "res = comparison_tree(train_data, train_labels, 5)\n",
    "print('Джинни')\n",
    "print(f'min_leaf={5:<5} train_accuracy={round(res[1],3):<10} test_accuracy={round(res[2],3)}')"
   ]
  },
  {
   "cell_type": "code",
   "execution_count": 23,
   "id": "73a46401",
   "metadata": {},
   "outputs": [
    {
     "name": "stdout",
     "output_type": "stream",
     "text": [
      "Критерий Шеннона\n",
      "min_leaf=5     train_accuracy=98.571     test_accuracy=100.0\n"
     ]
    }
   ],
   "source": [
    "res = comparison_tree(train_data, train_labels, 5, shennon=True)\n",
    "print('Критерий Шеннона')\n",
    "print(f'min_leaf={5:<5} train_accuracy={round(res[1],3):<10} test_accuracy={round(res[2],3)}')"
   ]
  },
  {
   "cell_type": "markdown",
   "id": "fc32d8ef",
   "metadata": {},
   "source": [
    "## Вывод:"
   ]
  },
  {
   "cell_type": "markdown",
   "id": "dcfb44b4",
   "metadata": {},
   "source": [
    "### Значения на обучающей и тестовой выборке для критерия Джинни и Шеннона одинаковые"
   ]
  },
  {
   "cell_type": "markdown",
   "id": "19df1731",
   "metadata": {},
   "source": [
    "## Лучший результат"
   ]
  },
  {
   "cell_type": "code",
   "execution_count": 24,
   "id": "dff93385",
   "metadata": {},
   "outputs": [
    {
     "data": {
      "image/png": "[encoded data removed]",
      "text/plain": [
       "<Figure size 1152x504 with 1 Axes>"
      ]
     },
     "metadata": {
      "needs_background": "light"
     },
     "output_type": "display_data"
    }
   ],
   "source": [
    "res = comparison_tree(train_data, train_labels, 5)\n",
    "my_tree = res[0]\n",
    "train_accuracy = res[1]\n",
    "test_accuracy =  res[2]\n",
    "\n",
    "# график обучающей выборки\n",
    "plt.figure(figsize=(16, 7))\n",
    "plt.subplot(1, 2, 1)\n",
    "xx, yy = get_meshgrid(train_data)\n",
    "mesh_predictions = np.array(predict(np.c_[xx.ravel(), yy.ravel()], my_tree)).reshape(xx.shape)\n",
    "plt.pcolormesh(xx, yy, mesh_predictions, cmap=light_colors, shading='auto')\n",
    "\n",
    "plt.pcolormesh(xx, yy, mesh_predictions, cmap=light_colors, shading='auto')\n",
    "plt.scatter(train_data[:, 0], train_data[:, 1], c=train_labels, cmap=colors)\n",
    "plt.title(f'Train accuracy={train_accuracy:.2f}')\n",
    "plt.show()"
   ]
  },
  {
   "cell_type": "code",
   "execution_count": 25,
   "id": "e188f638",
   "metadata": {},
   "outputs": [
    {
     "data": {
      "image/png": "[encoded data removed]",
      "text/plain": [
       "<Figure size 1152x504 with 1 Axes>"
      ]
     },
     "metadata": {
      "needs_background": "light"
     },
     "output_type": "display_data"
    }
   ],
   "source": [
    "# график тестовой выборки\n",
    "plt.figure(figsize=(16, 7))\n",
    "plt.subplot(1, 2, 2)\n",
    "plt.pcolormesh(xx, yy, mesh_predictions, cmap=light_colors, shading='auto')\n",
    "plt.scatter(test_data[:, 0], test_data[:, 1], c=test_labels, cmap=colors)\n",
    "plt.title(f'Test accuracy={test_accuracy:.2f}')\n",
    "plt.show()"
   ]
  }
 ],
 "metadata": {
  "kernelspec": {
   "display_name": "Python 3",
   "language": "python",
   "name": "python3"
  },
  "language_info": {
   "codemirror_mode": {
    "name": "ipython",
    "version": 3
   },
   "file_extension": ".py",
   "mimetype": "text/x-python",
   "name": "python",
   "nbconvert_exporter": "python",
   "pygments_lexer": "ipython3",
   "version": "3.7.10"
  }
 },
 "nbformat": 4,
 "nbformat_minor": 5
}
