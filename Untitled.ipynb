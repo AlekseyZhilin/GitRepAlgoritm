{
 "cells": [
  {
   "cell_type": "markdown",
   "id": "7649d945",
   "metadata": {},
   "source": [
    "### Подберите скорость обучения (alpha) и количество итераций:"
   ]
  },
  {
   "cell_type": "code",
   "execution_count": 1,
   "id": "18bb689c",
   "metadata": {},
   "outputs": [],
   "source": [
    "import numpy as np\n",
    "import matplotlib.pyplot as plt"
   ]
  },
  {
   "cell_type": "code",
   "execution_count": 2,
   "id": "118b454d",
   "metadata": {},
   "outputs": [],
   "source": [
    "def calc_mse(y, y_pred):\n",
    "    err = np.mean((y - y_pred)**2)\n",
    "    return err"
   ]
  },
  {
   "cell_type": "code",
   "execution_count": 3,
   "id": "423aaab6",
   "metadata": {},
   "outputs": [],
   "source": [
    "def finde_alpha(W, X, y, n, alpha):\n",
    "    old_err = 0\n",
    "    val_err = 1e-3\n",
    "    i = 0\n",
    "\n",
    "    while True:\n",
    "        y_pred = np.dot(W, X)\n",
    "        err = calc_mse(y, y_pred)\n",
    "        if abs(old_err - err) < val_err:\n",
    "            print(f\"{i:5} {W} {err:<20} {old_err:<20}\")\n",
    "            my_list = alpha, i, W, err\n",
    "            break\n",
    "    \n",
    "        for ii in range(W.shape[0]):\n",
    "            W[ii] -= alpha * (1/n * 2 * np.sum(X[ii] * (y_pred - y)))\n",
    "    \n",
    "        #if i % 1000 == 0:\n",
    "        #    print(f\"{i:5} {W} {err:<20} {old_err:<20}\")\n",
    "        \n",
    "        old_err = err\n",
    "        i += 1\n",
    "    \n",
    "    return my_list "
   ]
  },
  {
   "cell_type": "code",
   "execution_count": 4,
   "id": "205a8306",
   "metadata": {},
   "outputs": [],
   "source": [
    "result_list = []"
   ]
  },
  {
   "cell_type": "code",
   "execution_count": 5,
   "id": "82dcaec6",
   "metadata": {},
   "outputs": [
    {
     "name": "stdout",
     "output_type": "stream",
     "text": [
      "25880 [44.24195064  4.46287615] 50.744472698854956   50.74547249381474   \n",
      "148072 [37.77474365  5.6570954 ] 94.02330441282592    94.0243044017897    \n",
      "373470 [17.32483717  9.43317383] 526.8069949998045    526.807994998564    \n"
     ]
    }
   ],
   "source": [
    "for alpha in [1e-4, 1e-5, 1e-6]:\n",
    "    X = np.array([[1, 1, 1, 1, 1, 1, 1, 1, 1, 1],\n",
    "              [1, 1, 2, 1, 3, 0, 5, 10, 1, 2]])\n",
    "    y = [45, 55, 50, 59, 65, 35, 75, 80, 50, 60]\n",
    "\n",
    "    n = X.shape[1]\n",
    "    W = np.array([1, 0.5])\n",
    "    \n",
    "    result_list.append(finde_alpha(W, X, y, n, alpha))\n",
    "    "
   ]
  },
  {
   "cell_type": "code",
   "execution_count": 6,
   "id": "adbff525",
   "metadata": {},
   "outputs": [
    {
     "data": {
      "image/png": "[encoded data removed]",
      "text/plain": [
       "<Figure size 360x216 with 1 Axes>"
      ]
     },
     "metadata": {
      "needs_background": "light"
     },
     "output_type": "display_data"
    }
   ],
   "source": [
    "fig = plt.figure(figsize=(5, 3))\n",
    "plt.scatter(result_list[0][0],  result_list[0][3])\n",
    "plt.scatter(result_list[1][0],  result_list[1][3])\n",
    "plt.scatter(result_list[2][0],  result_list[2][3])\n",
    "plt.xlabel(\"alpha\", fontsize=14)\n",
    "plt.ylabel(\"mse\", fontsize=14)\n",
    "plt.show()"
   ]
  },
  {
   "cell_type": "code",
   "execution_count": 7,
   "id": "5491765d",
   "metadata": {},
   "outputs": [
    {
     "data": {
      "image/png": "[encoded data removed]",
      "text/plain": [
       "<Figure size 360x216 with 1 Axes>"
      ]
     },
     "metadata": {
      "needs_background": "light"
     },
     "output_type": "display_data"
    }
   ],
   "source": [
    "fig = plt.figure(figsize=(5, 3))\n",
    "plt.scatter(result_list[0][0],  result_list[0][1])\n",
    "plt.scatter(result_list[1][0],  result_list[1][1])\n",
    "plt.scatter(result_list[2][0],  result_list[2][1])\n",
    "plt.xlabel(\"alpha\", fontsize=14)\n",
    "plt.ylabel(\"iteration\", fontsize=14)\n",
    "plt.show()"
   ]
  }
 ],
 "metadata": {
  "kernelspec": {
   "display_name": "Python 3",
   "language": "python",
   "name": "python3"
  },
  "language_info": {
   "codemirror_mode": {
    "name": "ipython",
    "version": 3
   },
   "file_extension": ".py",
   "mimetype": "text/x-python",
   "name": "python",
   "nbconvert_exporter": "python",
   "pygments_lexer": "ipython3",
   "version": "3.7.10"
  }
 },
 "nbformat": 4,
 "nbformat_minor": 5
}
