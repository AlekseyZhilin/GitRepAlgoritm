{
 "cells": [
  {
   "cell_type": "markdown",
   "id": "b4bca421",
   "metadata": {},
   "source": [
    "### 1. Сгенерировать датасет при помощи sklearn.datasets.make_regression и обучить линейную модель при помощи градиентного и стохастического градиентного спуска. \n",
    "### Нанести среднеквадратичную ошибку для обоих методов на один график, сделать выводы о разнице скорости сходимости каждого из методов."
   ]
  },
  {
   "cell_type": "code",
   "execution_count": 1,
   "id": "47a016c1",
   "metadata": {},
   "outputs": [],
   "source": [
    "import numpy as np\n",
    "from sklearn import datasets\n",
    "import matplotlib.pyplot as plt\n",
    "\n",
    "%matplotlib inline"
   ]
  },
  {
   "cell_type": "markdown",
   "id": "9b7fa32d",
   "metadata": {},
   "source": [
    "#### Генерация набора данных"
   ]
  },
  {
   "cell_type": "code",
   "execution_count": 2,
   "id": "7be27572",
   "metadata": {},
   "outputs": [],
   "source": [
    "data, target, coef = datasets.make_regression(n_samples=1000, n_features=2, n_informative=2, n_targets=1,\n",
    "                                              noise=5, coef=True, random_state=2)"
   ]
  },
  {
   "cell_type": "code",
   "execution_count": 3,
   "id": "df2bc356",
   "metadata": {},
   "outputs": [],
   "source": [
    "## Масштабирование признаков (стандартизация)\n",
    "# Получим средние значения и стандартное отклонение по столбцам\n",
    "means = np.mean(data, axis=0)\n",
    "stds = np.std(data, axis=0)\n",
    "# вычтем каждое значение признака из среднего и поделим на стандартное отклонение\n",
    "for i in range(data.shape[0]):\n",
    "    for j in range(data.shape[1]):\n",
    "        data[i][j] = (data[i][j] - means[j]) / stds[j]"
   ]
  },
  {
   "cell_type": "code",
   "execution_count": 4,
   "id": "1122ea23",
   "metadata": {},
   "outputs": [],
   "source": [
    "# среднеквадратичная ошибка\n",
    "def mserror(X, w, y_pred):\n",
    "    y = X.dot(w)\n",
    "    return (sum((y - y_pred)**2)) / len(y)"
   ]
  },
  {
   "cell_type": "markdown",
   "id": "a3b54636",
   "metadata": {},
   "source": [
    "#### Начальные параметры"
   ]
  },
  {
   "cell_type": "code",
   "execution_count": 5,
   "id": "34831599",
   "metadata": {},
   "outputs": [],
   "source": [
    "# инициализируем начальный вектор весов\n",
    "w = np.zeros(2)\n",
    "# список векторов весов после каждой итерации\n",
    "w_list = [w.copy()]\n",
    "# список значений ошибок после каждой итерации\n",
    "errors = []\n",
    "# шаг градиентного спуска\n",
    "eta = 0.5\n",
    "# максимальное число итераций\n",
    "max_iter = 1e5\n",
    "# критерий сходимости (разница весов, при которой алгоритм останавливается)\n",
    "min_weight_dist = 1e-8\n",
    "# зададим начальную разницу весов большим числом\n",
    "weight_dist = np.inf\n",
    "# счетчик итераций\n",
    "iter_num = 0\n",
    "\n",
    "np.random.seed(1234)\n",
    "#Массив для сохранения значений\n",
    "res = []\n",
    "res2 = []"
   ]
  },
  {
   "cell_type": "markdown",
   "id": "4f72a46b",
   "metadata": {},
   "source": [
    "#### Стохастический градиентный спуск"
   ]
  },
  {
   "cell_type": "code",
   "execution_count": 6,
   "id": "edeaf9b4",
   "metadata": {},
   "outputs": [],
   "source": [
    "while weight_dist > min_weight_dist and iter_num < max_iter:\n",
    "    # генерируем случайный индекс объекта выборки\n",
    "    train_ind = np.random.randint(data.shape[0])\n",
    "\n",
    "    new_w = w - 2 * eta * np.dot(data[train_ind].T, (np.dot(data[train_ind], w) - target[train_ind])) / target.shape[0]\n",
    "\n",
    "    weight_dist = np.linalg.norm(new_w - w, ord=2)\n",
    "\n",
    "    w_list.append(new_w.copy())\n",
    "    errors.append(mserror(data, new_w, target))\n",
    "\n",
    "    iter_num += 1\n",
    "    w = new_w\n",
    "\n",
    "w_list = np.array(w_list)"
   ]
  },
  {
   "cell_type": "code",
   "execution_count": 7,
   "id": "48930bef",
   "metadata": {},
   "outputs": [
    {
     "data": {
      "image/png": "[encoded data removed]",
      "text/plain": [
       "<Figure size 936x432 with 1 Axes>"
      ]
     },
     "metadata": {
      "needs_background": "light"
     },
     "output_type": "display_data"
    }
   ],
   "source": [
    "# Визуализируем изменение весов (красной точкой обозначены истинные веса, сгенерированные вначале)\n",
    "plt.figure(figsize=(13, 6))\n",
    "plt.title('Stochastic gradient descent')\n",
    "plt.xlabel(r'$w_1$')\n",
    "plt.ylabel(r'$w_2$')\n",
    "\n",
    "plt.scatter(w_list[:, 0], w_list[:, 1])\n",
    "plt.scatter(coef[0], coef[1], c='r')\n",
    "\n",
    "plt.show()"
   ]
  },
  {
   "cell_type": "code",
   "execution_count": 8,
   "id": "ca344633",
   "metadata": {},
   "outputs": [
    {
     "name": "stdout",
     "output_type": "stream",
     "text": [
      "Веса признаков w1=61.42, w2=67.61\n",
      "Количество итераций 100000, mse=38.572062464252205\n"
     ]
    }
   ],
   "source": [
    "res = [w[0], w[1], iter_num]\n",
    "print(f'Веса признаков w1={round(w[0], 2)}, w2={round(w[1],2)}')\n",
    "print(f'Количество итераций {iter_num}, mse={errors[-1]}')"
   ]
  },
  {
   "cell_type": "markdown",
   "id": "0ee8c49b",
   "metadata": {},
   "source": [
    "#### Обычный градиентный спуск"
   ]
  },
  {
   "cell_type": "code",
   "execution_count": 9,
   "id": "6f47a258",
   "metadata": {},
   "outputs": [],
   "source": [
    "w = np.zeros(2)\n",
    "w_list = [w.copy()]\n",
    "errors_2 = []\n",
    "eta = 0.5\n",
    "max_iter = 1e5\n",
    "min_weight_dist = 1e-8\n",
    "weight_dist = np.inf\n",
    "iter_num = 0\n",
    "np.random.seed(1234)"
   ]
  },
  {
   "cell_type": "code",
   "execution_count": 10,
   "id": "5bdc4bfb",
   "metadata": {},
   "outputs": [],
   "source": [
    "while weight_dist > min_weight_dist and iter_num < max_iter:\n",
    "    new_w = w - 2 * eta * np.dot(data.T, (np.dot(data, w) - target)) / target.shape[0]\n",
    "\n",
    "    weight_dist = np.linalg.norm(new_w - w, ord=2)\n",
    "\n",
    "    w_list.append(new_w.copy())\n",
    "    errors_2.append(mserror(data, new_w, target))\n",
    "\n",
    "    iter_num += 1\n",
    "    w = new_w\n",
    "\n",
    "w_list = np.array(w_list)"
   ]
  },
  {
   "cell_type": "code",
   "execution_count": 11,
   "id": "7dae2dee",
   "metadata": {},
   "outputs": [
    {
     "data": {
      "image/png": "[encoded data removed]",
      "text/plain": [
       "<Figure size 936x432 with 1 Axes>"
      ]
     },
     "metadata": {
      "needs_background": "light"
     },
     "output_type": "display_data"
    }
   ],
   "source": [
    "# Визуализируем изменение весов (красной точкой обозначены истинные веса, сгенерированные вначале)\n",
    "plt.figure(figsize=(13, 6))\n",
    "plt.title('Stochastic gradient descent')\n",
    "plt.xlabel(r'$w_1$')\n",
    "plt.ylabel(r'$w_2$')\n",
    "\n",
    "plt.scatter(w_list[:, 0], w_list[:, 1])\n",
    "plt.scatter(coef[0], coef[1], c='r')\n",
    "\n",
    "plt.show()"
   ]
  },
  {
   "cell_type": "code",
   "execution_count": 12,
   "id": "7ba3db24",
   "metadata": {},
   "outputs": [
    {
     "name": "stdout",
     "output_type": "stream",
     "text": [
      "Веса признаков w1=61.44, w2=67.67\n",
      "Количество итераций 8, mse=38.56825174585215\n"
     ]
    }
   ],
   "source": [
    "res2 = [w[0], w[1], iter_num]\n",
    "print(f'Веса признаков w1={round(w[0], 2)}, w2={round(w[1],2)}')\n",
    "print(f'Количество итераций {iter_num}, mse={errors_2[-1]}')"
   ]
  },
  {
   "cell_type": "markdown",
   "id": "ec99ff73",
   "metadata": {},
   "source": [
    "### Выводы"
   ]
  },
  {
   "cell_type": "code",
   "execution_count": 13,
   "id": "c1c11f83",
   "metadata": {},
   "outputs": [
    {
     "data": {
      "image/png": "[encoded data removed]",
      "text/plain": [
       "<Figure size 432x288 with 1 Axes>"
      ]
     },
     "metadata": {
      "needs_background": "light"
     },
     "output_type": "display_data"
    }
   ],
   "source": [
    "# Визуализируем изменение функционала ошибки\n",
    "plt.plot(range(len(errors)), errors)\n",
    "plt.scatter(len(errors), errors[-1], c='g', label=\"best mse SGD\")\n",
    "plt.plot(range(len(errors_2)), errors_2)\n",
    "plt.scatter(len(errors_2), errors_2[-1], c='r', label=\"best mse GD\")\n",
    "plt.title('MSE')\n",
    "plt.xlabel('Iteration number')\n",
    "plt.ylabel('MSE')\n",
    "plt.legend()\n",
    "\n",
    "plt.show()"
   ]
  },
  {
   "cell_type": "code",
   "execution_count": 14,
   "id": "ddb419c5",
   "metadata": {},
   "outputs": [
    {
     "name": "stdout",
     "output_type": "stream",
     "text": [
      "Стохастический градиентный спуск:\n",
      "Веса признаков w1=61.42, w2=67.61, Количество итераций 100000, mse=38.572062464252205\n",
      "Обычный градиентный спуск:\n",
      "Веса признаков w1=61.44, w2=67.67, Количество итераций 8, mse=38.56825174585215\n"
     ]
    }
   ],
   "source": [
    "print('Стохастический градиентный спуск:')\n",
    "print(f'Веса признаков w1={round(res[0], 2)}, w2={round(res[1],2)}, Количество итераций {res[2]}, mse={errors[-1]}')\n",
    "print('Обычный градиентный спуск:')\n",
    "print(f'Веса признаков w1={round(res2[0], 2)}, w2={round(res2[1],2)}, Количество итераций {res2[2]}, mse={errors_2[-1]}')"
   ]
  },
  {
   "cell_type": "markdown",
   "id": "2a4d311c",
   "metadata": {},
   "source": [
    "### Обычный градиентный сруск точнее, количество итераций меньше и выполнился гораздо быстрее"
   ]
  }
 ],
 "metadata": {
  "kernelspec": {
   "display_name": "Python 3",
   "language": "python",
   "name": "python3"
  },
  "language_info": {
   "codemirror_mode": {
    "name": "ipython",
    "version": 3
   },
   "file_extension": ".py",
   "mimetype": "text/x-python",
   "name": "python",
   "nbconvert_exporter": "python",
   "pygments_lexer": "ipython3",
   "version": "3.7.10"
  }
 },
 "nbformat": 4,
 "nbformat_minor": 5
}
