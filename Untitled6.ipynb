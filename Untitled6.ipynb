{
 "cells": [
  {
   "cell_type": "code",
   "execution_count": 1,
   "id": "30487906",
   "metadata": {},
   "outputs": [],
   "source": [
    "import numpy as np\n",
    "import matplotlib.pyplot as plt\n",
    "from sklearn.tree import DecisionTreeRegressor\n",
    "from sklearn import model_selection\n",
    "from sklearn.datasets import load_diabetes"
   ]
  },
  {
   "cell_type": "markdown",
   "id": "f606d1fd",
   "metadata": {},
   "source": [
    "#### Получение данных"
   ]
  },
  {
   "cell_type": "code",
   "execution_count": 2,
   "id": "57ddf3fe",
   "metadata": {},
   "outputs": [],
   "source": [
    "X, y = load_diabetes(return_X_y=True)\n",
    "X_train, X_test, y_train, y_test = model_selection.train_test_split(X, y, test_size=0.25)"
   ]
  },
  {
   "cell_type": "markdown",
   "id": "9e77d3da",
   "metadata": {},
   "source": [
    "#### Функции"
   ]
  },
  {
   "cell_type": "code",
   "execution_count": 4,
   "id": "507e98c7",
   "metadata": {},
   "outputs": [],
   "source": [
    "def gb_predict(X, trees_list, coef_list, eta):\n",
    "    # Реализуемый алгоритм градиентного бустинга будет инициализироваться нулевыми значениями,\n",
    "    # поэтому все деревья из списка trees_list уже являются дополнительными и при предсказании прибавляются с шагом eta\n",
    "    return np.array([sum([eta * coef * alg.predict([x])[0] for alg, coef in zip(trees_list, coef_list)]) for x in X])\n",
    "\n",
    "\n",
    "def mean_squared_error(y_real, prediction):\n",
    "    return (sum((y_real - prediction) ** 2)) / len(y_real)\n",
    "\n",
    "\n",
    "def bias(y, z):\n",
    "    return (y - z)\n",
    "\n",
    "\n",
    "# Функция градиентного бустинга\n",
    "def gb_fit(n_trees, max_depth, X_train, X_test, y_train, y_test, coefs, eta):\n",
    "    # Деревья будем записывать в список\n",
    "    trees = []\n",
    "\n",
    "    # Будем записывать ошибки на обучающей и тестовой выборке на каждой итерации в список\n",
    "    train_errors = []\n",
    "    test_errors = []\n",
    "\n",
    "    for i in range(n_trees):\n",
    "        tree = DecisionTreeRegressor(max_depth=max_depth, random_state=42)\n",
    "\n",
    "        # инициализируем бустинг начальным алгоритмом, возвращающим ноль,\n",
    "        # поэтому первый алгоритм просто обучаем на выборке и добавляем в список\n",
    "        if len(trees) == 0:\n",
    "            # обучаем первое дерево на обучающей выборке\n",
    "            tree.fit(X_train, y_train)\n",
    "\n",
    "            train_errors.append(mean_squared_error(y_train, gb_predict(X_train, trees, coefs, eta)))\n",
    "            test_errors.append(mean_squared_error(y_test, gb_predict(X_test, trees, coefs, eta)))\n",
    "        else:\n",
    "            # Получим ответы на текущей композиции\n",
    "            target = gb_predict(X_train, trees, coefs, eta)\n",
    "\n",
    "            # алгоритмы начиная со второго обучаем на сдвиг\n",
    "            tree.fit(X_train, bias(y_train, target))\n",
    "\n",
    "            train_errors.append(mean_squared_error(y_train, gb_predict(X_train, trees, coefs, eta)))\n",
    "            test_errors.append(mean_squared_error(y_test, gb_predict(X_test, trees, coefs, eta)))\n",
    "\n",
    "        trees.append(tree)\n",
    "\n",
    "    return trees, train_errors, test_errors\n",
    "\n",
    "\n",
    "# Обучение моделей\n",
    "def evaluate_alg(X_train, X_test, y_train, y_test, trees, coefs, eta, n_trees, max_depth):\n",
    "    train_prediction = gb_predict(X_train, trees, coefs, eta)\n",
    "\n",
    "    train_mse = mean_squared_error(y_train, train_prediction)\n",
    "    print(f'Ошибка алгоритма из {n_trees} деревьев глубиной {max_depth} \\\n",
    "    с шагом {eta} на тренировочной выборке: {train_mse}')\n",
    "\n",
    "    test_prediction = gb_predict(X_test, trees, coefs, eta)\n",
    "    test_mse = mean_squared_error(y_test, test_prediction)\n",
    "    print(f'Ошибка алгоритма из {n_trees} деревьев глубиной {max_depth} \\\n",
    "    с шагом {eta} на тестовой выборке: {test_mse}')\n",
    "\n",
    "    return train_mse, test_mse\n",
    "\n",
    "\n",
    "def find_param_gb(X_train, X_test, y_train, y_test, n_trees=10, max_depth=3, eta=1):\n",
    "    coefs = [1] * n_trees\n",
    "    trees, train_errors, test_errors = gb_fit(n_trees, max_depth, X_train, X_test, y_train, y_test, coefs, eta)\n",
    "\n",
    "    train_mse, test_mse = evaluate_alg(X_train, X_test, y_train, y_test, trees, coefs, eta, n_trees, max_depth)\n",
    "\n",
    "    return train_mse, test_mse"
   ]
  },
  {
   "cell_type": "markdown",
   "id": "b725948a",
   "metadata": {},
   "source": [
    "### Анализ гиперпараметров"
   ]
  },
  {
   "cell_type": "code",
   "execution_count": 5,
   "id": "6e62554d",
   "metadata": {},
   "outputs": [
    {
     "name": "stdout",
     "output_type": "stream",
     "text": [
      "Ошибка алгоритма из 3 деревьев глубиной 3     с шагом 1 на тренировочной выборке: 2239.0797748471728\n",
      "Ошибка алгоритма из 3 деревьев глубиной 3     с шагом 1 на тестовой выборке: 4253.379681779092\n",
      "Ошибка алгоритма из 5 деревьев глубиной 3     с шагом 1 на тренировочной выборке: 1733.915504489072\n",
      "Ошибка алгоритма из 5 деревьев глубиной 3     с шагом 1 на тестовой выборке: 4732.059076284294\n",
      "Ошибка алгоритма из 10 деревьев глубиной 3     с шагом 1 на тренировочной выборке: 984.6325756101352\n",
      "Ошибка алгоритма из 10 деревьев глубиной 3     с шагом 1 на тестовой выборке: 6126.404365590633\n",
      "Ошибка алгоритма из 20 деревьев глубиной 3     с шагом 1 на тренировочной выборке: 439.88318618780016\n",
      "Ошибка алгоритма из 20 деревьев глубиной 3     с шагом 1 на тестовой выборке: 6773.391827472478\n",
      "Ошибка алгоритма из 40 деревьев глубиной 3     с шагом 1 на тренировочной выборке: 96.12062718664431\n",
      "Ошибка алгоритма из 40 деревьев глубиной 3     с шагом 1 на тестовой выборке: 7625.141335660188\n",
      "Ошибка алгоритма из 60 деревьев глубиной 3     с шагом 1 на тренировочной выборке: 25.240434596867747\n",
      "Ошибка алгоритма из 60 деревьев глубиной 3     с шагом 1 на тестовой выборке: 7525.019102973165\n",
      "Ошибка алгоритма из 80 деревьев глубиной 3     с шагом 1 на тренировочной выборке: 5.345603764046036\n",
      "Ошибка алгоритма из 80 деревьев глубиной 3     с шагом 1 на тестовой выборке: 7587.573682484882\n",
      "Ошибка алгоритма из 100 деревьев глубиной 3     с шагом 1 на тренировочной выборке: 1.169302214669887\n",
      "Ошибка алгоритма из 100 деревьев глубиной 3     с шагом 1 на тестовой выборке: 7538.644874333744\n"
     ]
    },
    {
     "data": {
      "image/png": "[encoded data removed]",
      "text/plain": [
       "<Figure size 432x288 with 1 Axes>"
      ]
     },
     "metadata": {
      "needs_background": "light"
     },
     "output_type": "display_data"
    }
   ],
   "source": [
    "# Количество деревьев\n",
    "list_train_mse = []\n",
    "list_test_mse = []\n",
    "n_trees = [3, 5, 10, 20, 40, 60, 80, 100]\n",
    "\n",
    "for tree in n_trees:\n",
    "    train_mse, test_mse = find_param_gb(X_train, X_test, y_train, y_test, tree)\n",
    "    list_train_mse.append(train_mse)\n",
    "    list_test_mse.append(test_mse)\n",
    "\n",
    "\n",
    "plt.xlabel('Trees')\n",
    "plt.ylabel('MSE')\n",
    "plt.plot(n_trees, list_train_mse, label='train error')\n",
    "plt.plot(n_trees, list_test_mse, label='test error')\n",
    "plt.legend()\n",
    "plt.show()"
   ]
  },
  {
   "cell_type": "markdown",
   "id": "9dca468e",
   "metadata": {},
   "source": [
    "### Вывод: На тренировочной выборке, с увеличением количества деревьев mse монотонно убывает, при количестве деревьвев более 40, практически перестаёт уменьшаться. При количестве деревьев около ста, ошибка практически равна нулю.\n",
    "### На тестовой выборке, наоборот, с увеличением количества деревьев, mse монотонно возрастает. Причём, также при достижении приблизительно 40 деревьев, ошибка практически перестаёт увеличиваться.\n",
    "### С увеличением количества деревьев, модель переобучается. Целесообразно подбирать небольшое количество деревьев (3 - 5), т.к. виден сушественый рост mse на участке от 0 до 20"
   ]
  },
  {
   "cell_type": "code",
   "execution_count": 6,
   "id": "6c3e9459",
   "metadata": {},
   "outputs": [
    {
     "name": "stdout",
     "output_type": "stream",
     "text": [
      "Ошибка алгоритма из 5 деревьев глубиной 1     с шагом 1 на тренировочной выборке: 2985.7849053531304\n",
      "Ошибка алгоритма из 5 деревьев глубиной 1     с шагом 1 на тестовой выборке: 3674.3755975738536\n",
      "Ошибка алгоритма из 5 деревьев глубиной 3     с шагом 1 на тренировочной выборке: 1733.915504489072\n",
      "Ошибка алгоритма из 5 деревьев глубиной 3     с шагом 1 на тестовой выборке: 4732.059076284294\n",
      "Ошибка алгоритма из 5 деревьев глубиной 4     с шагом 1 на тренировочной выборке: 1231.0692462239772\n",
      "Ошибка алгоритма из 5 деревьев глубиной 4     с шагом 1 на тестовой выборке: 5986.915885418808\n",
      "Ошибка алгоритма из 5 деревьев глубиной 5     с шагом 1 на тренировочной выборке: 694.1331360487882\n",
      "Ошибка алгоритма из 5 деревьев глубиной 5     с шагом 1 на тестовой выборке: 5693.158659532373\n",
      "Ошибка алгоритма из 5 деревьев глубиной 10     с шагом 1 на тренировочной выборке: 5.3420608541560554e-05\n",
      "Ошибка алгоритма из 5 деревьев глубиной 10     с шагом 1 на тестовой выборке: 8039.948621546901\n",
      "Ошибка алгоритма из 5 деревьев глубиной 15     с шагом 1 на тренировочной выборке: 0.0\n",
      "Ошибка алгоритма из 5 деревьев глубиной 15     с шагом 1 на тестовой выборке: 7335.60290846402\n",
      "Ошибка алгоритма из 5 деревьев глубиной 20     с шагом 1 на тренировочной выборке: 0.0\n",
      "Ошибка алгоритма из 5 деревьев глубиной 20     с шагом 1 на тестовой выборке: 6982.556306306306\n"
     ]
    },
    {
     "data": {
      "image/png": "[encoded data removed]",
      "text/plain": [
       "<Figure size 432x288 with 1 Axes>"
      ]
     },
     "metadata": {
      "needs_background": "light"
     },
     "output_type": "display_data"
    }
   ],
   "source": [
    "# Максимальная глубина дерева\n",
    "list_train_mse = []\n",
    "list_test_mse = []\n",
    "max_depth = [1, 3, 4, 5, 10, 15, 20]\n",
    "for depth in max_depth:\n",
    "    train_mse, test_mse = find_param_gb(X_train, X_test, y_train, y_test, 5, depth)\n",
    "    list_train_mse.append(train_mse)\n",
    "    list_test_mse.append(test_mse)\n",
    "\n",
    "\n",
    "plt.xlabel('Max depth')\n",
    "plt.ylabel('MSE')\n",
    "plt.plot(max_depth, list_train_mse, label='train error')\n",
    "plt.plot(max_depth, list_test_mse, label='test error')\n",
    "plt.legend()\n",
    "plt.show()"
   ]
  },
  {
   "cell_type": "markdown",
   "id": "ceb8e3e7",
   "metadata": {},
   "source": [
    "### Вывод: На тренировочной выборке, с увеличением глубины дерева, mse монотонно убывает, при глубине более 10, практически перестаёт уменьшаться. При достижении глубины дерева 15, ошибка равна нулю.\n",
    "### На тестовой выборке, наоборот, с увеличением глубины дерева, mse возрастает. Причём, при достижении приблизительно 10, mse начинает немного снижаться.\n",
    "### С увеличением глубины дерева, модель переобучается. Целесообразно подбирать небольшую глубину, около 5, т.к. при этом участке, mse снижается, а общая тенденция  к увеличению, ещё не ярко выражена\n",
    "### Таким образом, оценивая mse, целесообразно выбрать количество деревьев 5, глубину дерева 5"
   ]
  }
 ],
 "metadata": {
  "kernelspec": {
   "display_name": "Python 3",
   "language": "python",
   "name": "python3"
  },
  "language_info": {
   "codemirror_mode": {
    "name": "ipython",
    "version": 3
   },
   "file_extension": ".py",
   "mimetype": "text/x-python",
   "name": "python",
   "nbconvert_exporter": "python",
   "pygments_lexer": "ipython3",
   "version": "3.8.8"
  }
 },
 "nbformat": 4,
 "nbformat_minor": 5
}
